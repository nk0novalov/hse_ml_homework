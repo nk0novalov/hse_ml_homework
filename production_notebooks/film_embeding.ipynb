{
 "cells": [
  {
   "cell_type": "markdown",
   "metadata": {},
   "source": [
    "# Data preparations"
   ]
  },
  {
   "cell_type": "code",
   "execution_count": 1,
   "metadata": {
    "ExecuteTime": {
     "end_time": "2023-12-25T02:17:45.371133Z",
     "start_time": "2023-12-25T02:17:35.470530Z"
    }
   },
   "outputs": [
    {
     "name": "stdout",
     "output_type": "stream",
     "text": [
      "Requirement already satisfied: bs4 in /Users/nkonovalov/Library/Caches/pypoetry/virtualenvs/hse-homework-0ZnkoyXZ-py3.9/lib/python3.9/site-packages (0.0.1)\r\n",
      "Requirement already satisfied: beautifulsoup4 in /Users/nkonovalov/Library/Caches/pypoetry/virtualenvs/hse-homework-0ZnkoyXZ-py3.9/lib/python3.9/site-packages (from bs4) (4.12.2)\r\n",
      "Requirement already satisfied: soupsieve>1.2 in /Users/nkonovalov/Library/Caches/pypoetry/virtualenvs/hse-homework-0ZnkoyXZ-py3.9/lib/python3.9/site-packages (from beautifulsoup4->bs4) (2.5)\r\n",
      "\r\n",
      "\u001B[1m[\u001B[0m\u001B[34;49mnotice\u001B[0m\u001B[1;39;49m]\u001B[0m\u001B[39;49m A new release of pip is available: \u001B[0m\u001B[31;49m23.2.1\u001B[0m\u001B[39;49m -> \u001B[0m\u001B[32;49m23.3.2\u001B[0m\r\n",
      "\u001B[1m[\u001B[0m\u001B[34;49mnotice\u001B[0m\u001B[1;39;49m]\u001B[0m\u001B[39;49m To update, run: \u001B[0m\u001B[32;49mpip install --upgrade pip\u001B[0m\r\n",
      "Requirement already satisfied: pandas in /Users/nkonovalov/Library/Caches/pypoetry/virtualenvs/hse-homework-0ZnkoyXZ-py3.9/lib/python3.9/site-packages (2.1.4)\r\n",
      "Requirement already satisfied: numpy<2,>=1.22.4 in /Users/nkonovalov/Library/Caches/pypoetry/virtualenvs/hse-homework-0ZnkoyXZ-py3.9/lib/python3.9/site-packages (from pandas) (1.26.2)\r\n",
      "Requirement already satisfied: python-dateutil>=2.8.2 in /Users/nkonovalov/Library/Caches/pypoetry/virtualenvs/hse-homework-0ZnkoyXZ-py3.9/lib/python3.9/site-packages (from pandas) (2.8.2)\r\n",
      "Requirement already satisfied: pytz>=2020.1 in /Users/nkonovalov/Library/Caches/pypoetry/virtualenvs/hse-homework-0ZnkoyXZ-py3.9/lib/python3.9/site-packages (from pandas) (2023.3.post1)\r\n",
      "Requirement already satisfied: tzdata>=2022.1 in /Users/nkonovalov/Library/Caches/pypoetry/virtualenvs/hse-homework-0ZnkoyXZ-py3.9/lib/python3.9/site-packages (from pandas) (2023.3)\r\n",
      "Requirement already satisfied: six>=1.5 in /Users/nkonovalov/Library/Caches/pypoetry/virtualenvs/hse-homework-0ZnkoyXZ-py3.9/lib/python3.9/site-packages (from python-dateutil>=2.8.2->pandas) (1.16.0)\r\n",
      "\r\n",
      "\u001B[1m[\u001B[0m\u001B[34;49mnotice\u001B[0m\u001B[1;39;49m]\u001B[0m\u001B[39;49m A new release of pip is available: \u001B[0m\u001B[31;49m23.2.1\u001B[0m\u001B[39;49m -> \u001B[0m\u001B[32;49m23.3.2\u001B[0m\r\n",
      "\u001B[1m[\u001B[0m\u001B[34;49mnotice\u001B[0m\u001B[1;39;49m]\u001B[0m\u001B[39;49m To update, run: \u001B[0m\u001B[32;49mpip install --upgrade pip\u001B[0m\r\n",
      "Requirement already satisfied: numpy in /Users/nkonovalov/Library/Caches/pypoetry/virtualenvs/hse-homework-0ZnkoyXZ-py3.9/lib/python3.9/site-packages (1.26.2)\r\n",
      "\r\n",
      "\u001B[1m[\u001B[0m\u001B[34;49mnotice\u001B[0m\u001B[1;39;49m]\u001B[0m\u001B[39;49m A new release of pip is available: \u001B[0m\u001B[31;49m23.2.1\u001B[0m\u001B[39;49m -> \u001B[0m\u001B[32;49m23.3.2\u001B[0m\r\n",
      "\u001B[1m[\u001B[0m\u001B[34;49mnotice\u001B[0m\u001B[1;39;49m]\u001B[0m\u001B[39;49m To update, run: \u001B[0m\u001B[32;49mpip install --upgrade pip\u001B[0m\r\n",
      "Requirement already satisfied: pandas in /Users/nkonovalov/Library/Caches/pypoetry/virtualenvs/hse-homework-0ZnkoyXZ-py3.9/lib/python3.9/site-packages (2.1.4)\r\n",
      "Requirement already satisfied: numpy<2,>=1.22.4 in /Users/nkonovalov/Library/Caches/pypoetry/virtualenvs/hse-homework-0ZnkoyXZ-py3.9/lib/python3.9/site-packages (from pandas) (1.26.2)\r\n",
      "Requirement already satisfied: python-dateutil>=2.8.2 in /Users/nkonovalov/Library/Caches/pypoetry/virtualenvs/hse-homework-0ZnkoyXZ-py3.9/lib/python3.9/site-packages (from pandas) (2.8.2)\r\n",
      "Requirement already satisfied: pytz>=2020.1 in /Users/nkonovalov/Library/Caches/pypoetry/virtualenvs/hse-homework-0ZnkoyXZ-py3.9/lib/python3.9/site-packages (from pandas) (2023.3.post1)\r\n",
      "Requirement already satisfied: tzdata>=2022.1 in /Users/nkonovalov/Library/Caches/pypoetry/virtualenvs/hse-homework-0ZnkoyXZ-py3.9/lib/python3.9/site-packages (from pandas) (2023.3)\r\n",
      "Requirement already satisfied: six>=1.5 in /Users/nkonovalov/Library/Caches/pypoetry/virtualenvs/hse-homework-0ZnkoyXZ-py3.9/lib/python3.9/site-packages (from python-dateutil>=2.8.2->pandas) (1.16.0)\r\n",
      "\r\n",
      "\u001B[1m[\u001B[0m\u001B[34;49mnotice\u001B[0m\u001B[1;39;49m]\u001B[0m\u001B[39;49m A new release of pip is available: \u001B[0m\u001B[31;49m23.2.1\u001B[0m\u001B[39;49m -> \u001B[0m\u001B[32;49m23.3.2\u001B[0m\r\n",
      "\u001B[1m[\u001B[0m\u001B[34;49mnotice\u001B[0m\u001B[1;39;49m]\u001B[0m\u001B[39;49m To update, run: \u001B[0m\u001B[32;49mpip install --upgrade pip\u001B[0m\r\n",
      "Requirement already satisfied: scikit-learn in /Users/nkonovalov/Library/Caches/pypoetry/virtualenvs/hse-homework-0ZnkoyXZ-py3.9/lib/python3.9/site-packages (1.3.2)\r\n",
      "Requirement already satisfied: numpy<2.0,>=1.17.3 in /Users/nkonovalov/Library/Caches/pypoetry/virtualenvs/hse-homework-0ZnkoyXZ-py3.9/lib/python3.9/site-packages (from scikit-learn) (1.26.2)\r\n",
      "Requirement already satisfied: scipy>=1.5.0 in /Users/nkonovalov/Library/Caches/pypoetry/virtualenvs/hse-homework-0ZnkoyXZ-py3.9/lib/python3.9/site-packages (from scikit-learn) (1.11.4)\r\n",
      "Requirement already satisfied: joblib>=1.1.1 in /Users/nkonovalov/Library/Caches/pypoetry/virtualenvs/hse-homework-0ZnkoyXZ-py3.9/lib/python3.9/site-packages (from scikit-learn) (1.3.2)\r\n",
      "Requirement already satisfied: threadpoolctl>=2.0.0 in /Users/nkonovalov/Library/Caches/pypoetry/virtualenvs/hse-homework-0ZnkoyXZ-py3.9/lib/python3.9/site-packages (from scikit-learn) (3.2.0)\r\n",
      "\r\n",
      "\u001B[1m[\u001B[0m\u001B[34;49mnotice\u001B[0m\u001B[1;39;49m]\u001B[0m\u001B[39;49m A new release of pip is available: \u001B[0m\u001B[31;49m23.2.1\u001B[0m\u001B[39;49m -> \u001B[0m\u001B[32;49m23.3.2\u001B[0m\r\n",
      "\u001B[1m[\u001B[0m\u001B[34;49mnotice\u001B[0m\u001B[1;39;49m]\u001B[0m\u001B[39;49m To update, run: \u001B[0m\u001B[32;49mpip install --upgrade pip\u001B[0m\r\n",
      "Requirement already satisfied: bokeh in /Users/nkonovalov/Library/Caches/pypoetry/virtualenvs/hse-homework-0ZnkoyXZ-py3.9/lib/python3.9/site-packages (3.3.2)\r\n",
      "Requirement already satisfied: Jinja2>=2.9 in /Users/nkonovalov/Library/Caches/pypoetry/virtualenvs/hse-homework-0ZnkoyXZ-py3.9/lib/python3.9/site-packages (from bokeh) (3.1.2)\r\n",
      "Requirement already satisfied: contourpy>=1 in /Users/nkonovalov/Library/Caches/pypoetry/virtualenvs/hse-homework-0ZnkoyXZ-py3.9/lib/python3.9/site-packages (from bokeh) (1.2.0)\r\n",
      "Requirement already satisfied: numpy>=1.16 in /Users/nkonovalov/Library/Caches/pypoetry/virtualenvs/hse-homework-0ZnkoyXZ-py3.9/lib/python3.9/site-packages (from bokeh) (1.26.2)\r\n",
      "Requirement already satisfied: packaging>=16.8 in /Users/nkonovalov/Library/Caches/pypoetry/virtualenvs/hse-homework-0ZnkoyXZ-py3.9/lib/python3.9/site-packages (from bokeh) (23.2)\r\n",
      "Requirement already satisfied: pandas>=1.2 in /Users/nkonovalov/Library/Caches/pypoetry/virtualenvs/hse-homework-0ZnkoyXZ-py3.9/lib/python3.9/site-packages (from bokeh) (2.1.4)\r\n",
      "Requirement already satisfied: pillow>=7.1.0 in /Users/nkonovalov/Library/Caches/pypoetry/virtualenvs/hse-homework-0ZnkoyXZ-py3.9/lib/python3.9/site-packages (from bokeh) (10.1.0)\r\n",
      "Requirement already satisfied: PyYAML>=3.10 in /Users/nkonovalov/Library/Caches/pypoetry/virtualenvs/hse-homework-0ZnkoyXZ-py3.9/lib/python3.9/site-packages (from bokeh) (6.0.1)\r\n",
      "Requirement already satisfied: tornado>=5.1 in /Users/nkonovalov/Library/Caches/pypoetry/virtualenvs/hse-homework-0ZnkoyXZ-py3.9/lib/python3.9/site-packages (from bokeh) (6.4)\r\n",
      "Requirement already satisfied: xyzservices>=2021.09.1 in /Users/nkonovalov/Library/Caches/pypoetry/virtualenvs/hse-homework-0ZnkoyXZ-py3.9/lib/python3.9/site-packages (from bokeh) (2023.10.1)\r\n",
      "Requirement already satisfied: MarkupSafe>=2.0 in /Users/nkonovalov/Library/Caches/pypoetry/virtualenvs/hse-homework-0ZnkoyXZ-py3.9/lib/python3.9/site-packages (from Jinja2>=2.9->bokeh) (2.1.3)\r\n",
      "Requirement already satisfied: python-dateutil>=2.8.2 in /Users/nkonovalov/Library/Caches/pypoetry/virtualenvs/hse-homework-0ZnkoyXZ-py3.9/lib/python3.9/site-packages (from pandas>=1.2->bokeh) (2.8.2)\r\n",
      "Requirement already satisfied: pytz>=2020.1 in /Users/nkonovalov/Library/Caches/pypoetry/virtualenvs/hse-homework-0ZnkoyXZ-py3.9/lib/python3.9/site-packages (from pandas>=1.2->bokeh) (2023.3.post1)\r\n",
      "Requirement already satisfied: tzdata>=2022.1 in /Users/nkonovalov/Library/Caches/pypoetry/virtualenvs/hse-homework-0ZnkoyXZ-py3.9/lib/python3.9/site-packages (from pandas>=1.2->bokeh) (2023.3)\r\n",
      "Requirement already satisfied: six>=1.5 in /Users/nkonovalov/Library/Caches/pypoetry/virtualenvs/hse-homework-0ZnkoyXZ-py3.9/lib/python3.9/site-packages (from python-dateutil>=2.8.2->pandas>=1.2->bokeh) (1.16.0)\r\n",
      "\r\n",
      "\u001B[1m[\u001B[0m\u001B[34;49mnotice\u001B[0m\u001B[1;39;49m]\u001B[0m\u001B[39;49m A new release of pip is available: \u001B[0m\u001B[31;49m23.2.1\u001B[0m\u001B[39;49m -> \u001B[0m\u001B[32;49m23.3.2\u001B[0m\r\n",
      "\u001B[1m[\u001B[0m\u001B[34;49mnotice\u001B[0m\u001B[1;39;49m]\u001B[0m\u001B[39;49m To update, run: \u001B[0m\u001B[32;49mpip install --upgrade pip\u001B[0m\r\n",
      "Requirement already satisfied: pyarrow in /Users/nkonovalov/Library/Caches/pypoetry/virtualenvs/hse-homework-0ZnkoyXZ-py3.9/lib/python3.9/site-packages (14.0.2)\r\n",
      "Requirement already satisfied: numpy>=1.16.6 in /Users/nkonovalov/Library/Caches/pypoetry/virtualenvs/hse-homework-0ZnkoyXZ-py3.9/lib/python3.9/site-packages (from pyarrow) (1.26.2)\r\n",
      "\r\n",
      "\u001B[1m[\u001B[0m\u001B[34;49mnotice\u001B[0m\u001B[1;39;49m]\u001B[0m\u001B[39;49m A new release of pip is available: \u001B[0m\u001B[31;49m23.2.1\u001B[0m\u001B[39;49m -> \u001B[0m\u001B[32;49m23.3.2\u001B[0m\r\n",
      "\u001B[1m[\u001B[0m\u001B[34;49mnotice\u001B[0m\u001B[1;39;49m]\u001B[0m\u001B[39;49m To update, run: \u001B[0m\u001B[32;49mpip install --upgrade pip\u001B[0m\r\n",
      "Requirement already satisfied: fastparquet in /Users/nkonovalov/Library/Caches/pypoetry/virtualenvs/hse-homework-0ZnkoyXZ-py3.9/lib/python3.9/site-packages (2023.10.1)\r\n",
      "Requirement already satisfied: pandas>=1.5.0 in /Users/nkonovalov/Library/Caches/pypoetry/virtualenvs/hse-homework-0ZnkoyXZ-py3.9/lib/python3.9/site-packages (from fastparquet) (2.1.4)\r\n",
      "Requirement already satisfied: numpy>=1.20.3 in /Users/nkonovalov/Library/Caches/pypoetry/virtualenvs/hse-homework-0ZnkoyXZ-py3.9/lib/python3.9/site-packages (from fastparquet) (1.26.2)\r\n",
      "Requirement already satisfied: cramjam>=2.3 in /Users/nkonovalov/Library/Caches/pypoetry/virtualenvs/hse-homework-0ZnkoyXZ-py3.9/lib/python3.9/site-packages (from fastparquet) (2.7.0)\r\n",
      "Requirement already satisfied: fsspec in /Users/nkonovalov/Library/Caches/pypoetry/virtualenvs/hse-homework-0ZnkoyXZ-py3.9/lib/python3.9/site-packages (from fastparquet) (2023.12.2)\r\n",
      "Requirement already satisfied: packaging in /Users/nkonovalov/Library/Caches/pypoetry/virtualenvs/hse-homework-0ZnkoyXZ-py3.9/lib/python3.9/site-packages (from fastparquet) (23.2)\r\n",
      "Requirement already satisfied: python-dateutil>=2.8.2 in /Users/nkonovalov/Library/Caches/pypoetry/virtualenvs/hse-homework-0ZnkoyXZ-py3.9/lib/python3.9/site-packages (from pandas>=1.5.0->fastparquet) (2.8.2)\r\n",
      "Requirement already satisfied: pytz>=2020.1 in /Users/nkonovalov/Library/Caches/pypoetry/virtualenvs/hse-homework-0ZnkoyXZ-py3.9/lib/python3.9/site-packages (from pandas>=1.5.0->fastparquet) (2023.3.post1)\r\n",
      "Requirement already satisfied: tzdata>=2022.1 in /Users/nkonovalov/Library/Caches/pypoetry/virtualenvs/hse-homework-0ZnkoyXZ-py3.9/lib/python3.9/site-packages (from pandas>=1.5.0->fastparquet) (2023.3)\r\n",
      "Requirement already satisfied: six>=1.5 in /Users/nkonovalov/Library/Caches/pypoetry/virtualenvs/hse-homework-0ZnkoyXZ-py3.9/lib/python3.9/site-packages (from python-dateutil>=2.8.2->pandas>=1.5.0->fastparquet) (1.16.0)\r\n",
      "\r\n",
      "\u001B[1m[\u001B[0m\u001B[34;49mnotice\u001B[0m\u001B[1;39;49m]\u001B[0m\u001B[39;49m A new release of pip is available: \u001B[0m\u001B[31;49m23.2.1\u001B[0m\u001B[39;49m -> \u001B[0m\u001B[32;49m23.3.2\u001B[0m\r\n",
      "\u001B[1m[\u001B[0m\u001B[34;49mnotice\u001B[0m\u001B[1;39;49m]\u001B[0m\u001B[39;49m To update, run: \u001B[0m\u001B[32;49mpip install --upgrade pip\u001B[0m\r\n",
      "Requirement already satisfied: sentence-transformers in /Users/nkonovalov/Library/Caches/pypoetry/virtualenvs/hse-homework-0ZnkoyXZ-py3.9/lib/python3.9/site-packages (2.2.2)\r\n",
      "Requirement already satisfied: transformers<5.0.0,>=4.6.0 in /Users/nkonovalov/Library/Caches/pypoetry/virtualenvs/hse-homework-0ZnkoyXZ-py3.9/lib/python3.9/site-packages (from sentence-transformers) (4.36.2)\r\n",
      "Requirement already satisfied: tqdm in /Users/nkonovalov/Library/Caches/pypoetry/virtualenvs/hse-homework-0ZnkoyXZ-py3.9/lib/python3.9/site-packages (from sentence-transformers) (4.66.1)\r\n",
      "Requirement already satisfied: torch>=1.6.0 in /Users/nkonovalov/Library/Caches/pypoetry/virtualenvs/hse-homework-0ZnkoyXZ-py3.9/lib/python3.9/site-packages (from sentence-transformers) (2.1.2)\r\n",
      "Requirement already satisfied: torchvision in /Users/nkonovalov/Library/Caches/pypoetry/virtualenvs/hse-homework-0ZnkoyXZ-py3.9/lib/python3.9/site-packages (from sentence-transformers) (0.16.2)\r\n",
      "Requirement already satisfied: numpy in /Users/nkonovalov/Library/Caches/pypoetry/virtualenvs/hse-homework-0ZnkoyXZ-py3.9/lib/python3.9/site-packages (from sentence-transformers) (1.26.2)\r\n",
      "Requirement already satisfied: scikit-learn in /Users/nkonovalov/Library/Caches/pypoetry/virtualenvs/hse-homework-0ZnkoyXZ-py3.9/lib/python3.9/site-packages (from sentence-transformers) (1.3.2)\r\n",
      "Requirement already satisfied: scipy in /Users/nkonovalov/Library/Caches/pypoetry/virtualenvs/hse-homework-0ZnkoyXZ-py3.9/lib/python3.9/site-packages (from sentence-transformers) (1.11.4)\r\n",
      "Requirement already satisfied: nltk in /Users/nkonovalov/Library/Caches/pypoetry/virtualenvs/hse-homework-0ZnkoyXZ-py3.9/lib/python3.9/site-packages (from sentence-transformers) (3.8.1)\r\n",
      "Requirement already satisfied: sentencepiece in /Users/nkonovalov/Library/Caches/pypoetry/virtualenvs/hse-homework-0ZnkoyXZ-py3.9/lib/python3.9/site-packages (from sentence-transformers) (0.1.99)\r\n",
      "Requirement already satisfied: huggingface-hub>=0.4.0 in /Users/nkonovalov/Library/Caches/pypoetry/virtualenvs/hse-homework-0ZnkoyXZ-py3.9/lib/python3.9/site-packages (from sentence-transformers) (0.20.1)\r\n",
      "Requirement already satisfied: filelock in /Users/nkonovalov/Library/Caches/pypoetry/virtualenvs/hse-homework-0ZnkoyXZ-py3.9/lib/python3.9/site-packages (from huggingface-hub>=0.4.0->sentence-transformers) (3.13.1)\r\n",
      "Requirement already satisfied: fsspec>=2023.5.0 in /Users/nkonovalov/Library/Caches/pypoetry/virtualenvs/hse-homework-0ZnkoyXZ-py3.9/lib/python3.9/site-packages (from huggingface-hub>=0.4.0->sentence-transformers) (2023.12.2)\r\n",
      "Requirement already satisfied: requests in /Users/nkonovalov/Library/Caches/pypoetry/virtualenvs/hse-homework-0ZnkoyXZ-py3.9/lib/python3.9/site-packages (from huggingface-hub>=0.4.0->sentence-transformers) (2.31.0)\r\n",
      "Requirement already satisfied: pyyaml>=5.1 in /Users/nkonovalov/Library/Caches/pypoetry/virtualenvs/hse-homework-0ZnkoyXZ-py3.9/lib/python3.9/site-packages (from huggingface-hub>=0.4.0->sentence-transformers) (6.0.1)\r\n",
      "Requirement already satisfied: typing-extensions>=3.7.4.3 in /Users/nkonovalov/Library/Caches/pypoetry/virtualenvs/hse-homework-0ZnkoyXZ-py3.9/lib/python3.9/site-packages (from huggingface-hub>=0.4.0->sentence-transformers) (4.9.0)\r\n",
      "Requirement already satisfied: packaging>=20.9 in /Users/nkonovalov/Library/Caches/pypoetry/virtualenvs/hse-homework-0ZnkoyXZ-py3.9/lib/python3.9/site-packages (from huggingface-hub>=0.4.0->sentence-transformers) (23.2)\r\n",
      "Requirement already satisfied: sympy in /Users/nkonovalov/Library/Caches/pypoetry/virtualenvs/hse-homework-0ZnkoyXZ-py3.9/lib/python3.9/site-packages (from torch>=1.6.0->sentence-transformers) (1.12)\r\n",
      "Requirement already satisfied: networkx in /Users/nkonovalov/Library/Caches/pypoetry/virtualenvs/hse-homework-0ZnkoyXZ-py3.9/lib/python3.9/site-packages (from torch>=1.6.0->sentence-transformers) (3.2.1)\r\n",
      "Requirement already satisfied: jinja2 in /Users/nkonovalov/Library/Caches/pypoetry/virtualenvs/hse-homework-0ZnkoyXZ-py3.9/lib/python3.9/site-packages (from torch>=1.6.0->sentence-transformers) (3.1.2)\r\n",
      "Requirement already satisfied: regex!=2019.12.17 in /Users/nkonovalov/Library/Caches/pypoetry/virtualenvs/hse-homework-0ZnkoyXZ-py3.9/lib/python3.9/site-packages (from transformers<5.0.0,>=4.6.0->sentence-transformers) (2023.10.3)\r\n",
      "Requirement already satisfied: tokenizers<0.19,>=0.14 in /Users/nkonovalov/Library/Caches/pypoetry/virtualenvs/hse-homework-0ZnkoyXZ-py3.9/lib/python3.9/site-packages (from transformers<5.0.0,>=4.6.0->sentence-transformers) (0.15.0)\r\n",
      "Requirement already satisfied: safetensors>=0.3.1 in /Users/nkonovalov/Library/Caches/pypoetry/virtualenvs/hse-homework-0ZnkoyXZ-py3.9/lib/python3.9/site-packages (from transformers<5.0.0,>=4.6.0->sentence-transformers) (0.4.1)\r\n",
      "Requirement already satisfied: click in /Users/nkonovalov/Library/Caches/pypoetry/virtualenvs/hse-homework-0ZnkoyXZ-py3.9/lib/python3.9/site-packages (from nltk->sentence-transformers) (8.1.7)\r\n",
      "Requirement already satisfied: joblib in /Users/nkonovalov/Library/Caches/pypoetry/virtualenvs/hse-homework-0ZnkoyXZ-py3.9/lib/python3.9/site-packages (from nltk->sentence-transformers) (1.3.2)\r\n",
      "Requirement already satisfied: threadpoolctl>=2.0.0 in /Users/nkonovalov/Library/Caches/pypoetry/virtualenvs/hse-homework-0ZnkoyXZ-py3.9/lib/python3.9/site-packages (from scikit-learn->sentence-transformers) (3.2.0)\r\n",
      "Requirement already satisfied: pillow!=8.3.*,>=5.3.0 in /Users/nkonovalov/Library/Caches/pypoetry/virtualenvs/hse-homework-0ZnkoyXZ-py3.9/lib/python3.9/site-packages (from torchvision->sentence-transformers) (10.1.0)\r\n",
      "Requirement already satisfied: MarkupSafe>=2.0 in /Users/nkonovalov/Library/Caches/pypoetry/virtualenvs/hse-homework-0ZnkoyXZ-py3.9/lib/python3.9/site-packages (from jinja2->torch>=1.6.0->sentence-transformers) (2.1.3)\r\n",
      "Requirement already satisfied: charset-normalizer<4,>=2 in /Users/nkonovalov/Library/Caches/pypoetry/virtualenvs/hse-homework-0ZnkoyXZ-py3.9/lib/python3.9/site-packages (from requests->huggingface-hub>=0.4.0->sentence-transformers) (3.3.2)\r\n",
      "Requirement already satisfied: idna<4,>=2.5 in /Users/nkonovalov/Library/Caches/pypoetry/virtualenvs/hse-homework-0ZnkoyXZ-py3.9/lib/python3.9/site-packages (from requests->huggingface-hub>=0.4.0->sentence-transformers) (3.6)\r\n",
      "Requirement already satisfied: urllib3<3,>=1.21.1 in /Users/nkonovalov/Library/Caches/pypoetry/virtualenvs/hse-homework-0ZnkoyXZ-py3.9/lib/python3.9/site-packages (from requests->huggingface-hub>=0.4.0->sentence-transformers) (2.1.0)\r\n",
      "Requirement already satisfied: certifi>=2017.4.17 in /Users/nkonovalov/Library/Caches/pypoetry/virtualenvs/hse-homework-0ZnkoyXZ-py3.9/lib/python3.9/site-packages (from requests->huggingface-hub>=0.4.0->sentence-transformers) (2023.11.17)\r\n",
      "Requirement already satisfied: mpmath>=0.19 in /Users/nkonovalov/Library/Caches/pypoetry/virtualenvs/hse-homework-0ZnkoyXZ-py3.9/lib/python3.9/site-packages (from sympy->torch>=1.6.0->sentence-transformers) (1.3.0)\r\n",
      "\r\n",
      "\u001B[1m[\u001B[0m\u001B[34;49mnotice\u001B[0m\u001B[1;39;49m]\u001B[0m\u001B[39;49m A new release of pip is available: \u001B[0m\u001B[31;49m23.2.1\u001B[0m\u001B[39;49m -> \u001B[0m\u001B[32;49m23.3.2\u001B[0m\r\n",
      "\u001B[1m[\u001B[0m\u001B[34;49mnotice\u001B[0m\u001B[1;39;49m]\u001B[0m\u001B[39;49m To update, run: \u001B[0m\u001B[32;49mpip install --upgrade pip\u001B[0m\r\n"
     ]
    }
   ],
   "source": [
    "!pip install bs4\n",
    "!pip install pandas\n",
    "!pip install numpy\n",
    "!pip install pandas\n",
    "!pip install scikit-learn\n",
    "!pip install bokeh\n",
    "!pip install pyarrow\n",
    "!pip install fastparquet\n",
    "!pip install sentence-transformers"
   ]
  },
  {
   "cell_type": "code",
   "execution_count": 2,
   "metadata": {
    "ExecuteTime": {
     "end_time": "2023-12-25T02:17:48.377947Z",
     "start_time": "2023-12-25T02:17:47.963974Z"
    }
   },
   "outputs": [
    {
     "name": "stderr",
     "output_type": "stream",
     "text": [
      "/Users/nkonovalov/Library/Caches/pypoetry/virtualenvs/hse-homework-0ZnkoyXZ-py3.9/lib/python3.9/site-packages/urllib3/__init__.py:34: NotOpenSSLWarning: urllib3 v2 only supports OpenSSL 1.1.1+, currently the 'ssl' module is compiled with 'LibreSSL 2.8.3'. See: https://github.com/urllib3/urllib3/issues/3020\n",
      "  warnings.warn(\n"
     ]
    }
   ],
   "source": [
    "import requests\n",
    "from bs4 import BeautifulSoup\n",
    "import itertools\n",
    "import pandas as pd\n",
    "import operator\n",
    "import numpy as np\n",
    "import json\n",
    "import csv\n",
    "import json\n",
    "import sqlite3\n",
    "import itertools\n",
    "import operator"
   ]
  },
  {
   "cell_type": "code",
   "execution_count": 3,
   "outputs": [],
   "source": [
    "def sampleReviews(user_review_ratings):\n",
    "    \n",
    "    num_reviews = len(user_review_ratings)\n",
    "    print(num_reviews)\n",
    "    if num_reviews < 5:\n",
    "        return list(range(5))\n",
    "    indices, reviews_sorted = zip(*sorted(enumerate(user_review_ratings), key=operator.itemgetter(1)))\n",
    "    if num_reviews % 2 == 0:\n",
    "        median = int(num_reviews / 2)\n",
    "    else:\n",
    "        median = int((num_reviews - 1) / 2)\n",
    "    x = [0, median-1, median, median+1, num_reviews-1]\n",
    "    return [indices[i] for i in x]\n",
    "    "
   ],
   "metadata": {
    "collapsed": false,
    "ExecuteTime": {
     "end_time": "2023-12-25T02:17:50.987659Z",
     "start_time": "2023-12-25T02:17:50.986631Z"
    }
   }
  },
  {
   "cell_type": "code",
   "execution_count": 4,
   "metadata": {
    "collapsed": false,
    "ExecuteTime": {
     "end_time": "2023-12-25T02:18:13.440Z",
     "start_time": "2023-12-25T02:17:55.503579Z"
    }
   },
   "outputs": [
    {
     "name": "stdout",
     "output_type": "stream",
     "text": [
      "Length of movie_links: 6890\n",
      "Length of review_df['imdb']: 33993\n",
      "Length of movie_df['movie_id']: 6890\n"
     ]
    }
   ],
   "source": [
    "# Load movie data from 'output_with_budget.csv'\n",
    "movie_csv_file_path = '../datasets/output_with_budget.csv'\n",
    "movie_df = pd.read_csv(movie_csv_file_path)\n",
    "\n",
    "# Load movie review data from 'review1.csv'\n",
    "review_csv_file_path = '../datasets/reviews.csv'\n",
    "review_df = pd.read_csv(review_csv_file_path)\n",
    "\n",
    "# Extract IMDb IDs from URLs in 'movie_df'\n",
    "movie_df['imdb'] = movie_df['imdb'].str.extract(r'tt(\\d+)')\n",
    "movie_df['imdb'] = \"/title/tt\" + movie_df['imdb'] + \"/\"\n",
    "\n",
    "# Merge the two dataframes based on 'imdb'\n",
    "merged_df = pd.merge(movie_df, review_df, left_on='imdb', right_on='movie_id', how='left')\n",
    "\n",
    "# Filter out rows where 'user_review_permalink' is NaN\n",
    "merged_df = merged_df.dropna(subset=['user_review_permalink'])\n",
    "\n",
    "# Get unique IMDb IDs\n",
    "unique_imdb_ids = merged_df['imdb'].unique()\n",
    "\n",
    "# Construct dataframes if needed\n",
    "review_df = pd.concat([pd.DataFrame({'imdb': [imdb_id], \n",
    "                                      'user_review_permalink': [review_row['user_review_permalink']],\n",
    "                                      'user_review': [review_row['user_review']]})\n",
    "                      for imdb_id in unique_imdb_ids\n",
    "                      for _, review_row in merged_df.loc[merged_df['imdb'] == imdb_id].iterrows()],\n",
    "                     ignore_index=True)\n",
    "\n",
    "# Replace 'imdb' with the correct column name for IMDb IDs\n",
    "movie_links = unique_imdb_ids\n",
    "\n",
    "def getDescs(link):\n",
    "    # You have data in CSV, so no need for additional scraping\n",
    "    # Just return the 'description' column value based on the link\n",
    "    return merged_df.loc[merged_df['imdb'] == link, 'description'].values[0]\n",
    "\n",
    "# Debug: Print lengths of relevant arrays\n",
    "print(\"Length of movie_links:\", len(movie_links))\n",
    "print(\"Length of review_df['imdb']:\", len(review_df['imdb']))\n",
    "\n",
    "# Replace 'imdb' with the correct column name for IMDb IDs\n",
    "movie_df = pd.DataFrame({'imdb': movie_links, 'movie_id': unique_imdb_ids,\n",
    "                         'movie_desc': [getDescs(link) for link in movie_links]})\n",
    "\n",
    "# Debug: Print length of movie_df['movie_id']\n",
    "print(\"Length of movie_df['movie_id']:\", len(movie_df['movie_id']))\n",
    "\n",
    "# Save data to SQLite database\n",
    "conn = sqlite3.connect(\"../datasets/movie_search.db\")\n",
    "movie_df.to_sql(\"movies\", conn, if_exists=\"replace\")\n",
    "review_df.to_sql(\"movie_reviews\", conn, if_exists=\"replace\")\n",
    "\n",
    "# Save data to Parquet files\n",
    "movie_df.to_parquet(\"../datasets/movies.parquet\")\n",
    "review_df.to_parquet(\"../datasets/reviews.parquet\")\n"
   ]
  },
  {
   "cell_type": "markdown",
   "metadata": {
    "ExecuteTime": {
     "end_time": "2023-12-24T07:54:06.252026Z",
     "start_time": "2023-12-24T07:54:04.725031Z"
    }
   },
   "source": [
    "## Film Embeddings"
   ]
  },
  {
   "cell_type": "code",
   "execution_count": 5,
   "metadata": {
    "collapsed": false,
    "ExecuteTime": {
     "end_time": "2023-12-25T02:18:22.425006Z",
     "start_time": "2023-12-25T02:18:17.995717Z"
    }
   },
   "outputs": [],
   "source": [
    "from sentence_transformers import SentenceTransformer"
   ]
  },
  {
   "cell_type": "code",
   "execution_count": 6,
   "metadata": {
    "ExecuteTime": {
     "end_time": "2023-12-25T02:18:26.957348Z",
     "start_time": "2023-12-25T02:18:25.828288Z"
    }
   },
   "outputs": [],
   "source": [
    "model = SentenceTransformer('stsb-distilbert-base')\n",
    "model.max_seq_length = 512"
   ]
  },
  {
   "cell_type": "code",
   "execution_count": 7,
   "metadata": {
    "ExecuteTime": {
     "end_time": "2023-12-25T02:39:20.233860Z",
     "start_time": "2023-12-25T02:19:01.633482Z"
    }
   },
   "outputs": [
    {
     "data": {
      "text/plain": "Batches:   0%|          | 0/1063 [00:00<?, ?it/s]",
      "application/vnd.jupyter.widget-view+json": {
       "version_major": 2,
       "version_minor": 0,
       "model_id": "ba579c98fc0443de892ab7b20fffcd3e"
      }
     },
     "metadata": {},
     "output_type": "display_data"
    }
   ],
   "source": [
    "embeddings = model.encode(review_df['user_review'], show_progress_bar=True)"
   ]
  },
  {
   "cell_type": "code",
   "execution_count": 8,
   "metadata": {
    "ExecuteTime": {
     "end_time": "2023-12-25T02:39:23.324002Z",
     "start_time": "2023-12-25T02:39:23.317657Z"
    }
   },
   "outputs": [],
   "source": [
    "def normalize(v):\n",
    "    norm = np.linalg.norm(v)\n",
    "    if norm == 0: \n",
    "        return v\n",
    "    return v / norm"
   ]
  },
  {
   "cell_type": "code",
   "execution_count": 9,
   "metadata": {
    "ExecuteTime": {
     "end_time": "2023-12-25T02:39:28.368025Z",
     "start_time": "2023-12-25T02:39:28.280972Z"
    }
   },
   "outputs": [],
   "source": [
    "# make embeddings part of dataframe, avg by movie title\n",
    "import numpy as np\n",
    "avg_embeddings = np.array([sum(embeddings[i:i+5])/5 for i in range(0,len(embeddings),5)])"
   ]
  },
  {
   "cell_type": "code",
   "execution_count": 10,
   "metadata": {
    "ExecuteTime": {
     "end_time": "2023-12-25T02:39:31.773082Z",
     "start_time": "2023-12-25T02:39:31.730158Z"
    }
   },
   "outputs": [],
   "source": [
    "unit_embeddings = np.array([normalize(v) for v in avg_embeddings])"
   ]
  },
  {
   "cell_type": "code",
   "execution_count": 11,
   "metadata": {
    "ExecuteTime": {
     "end_time": "2023-12-25T02:39:33.336033Z",
     "start_time": "2023-12-25T02:39:33.334241Z"
    }
   },
   "outputs": [
    {
     "data": {
      "text/plain": "0.99999994"
     },
     "execution_count": 11,
     "metadata": {},
     "output_type": "execute_result"
    }
   ],
   "source": [
    "np.sqrt(np.dot(unit_embeddings[2], unit_embeddings[2]))"
   ]
  },
  {
   "cell_type": "code",
   "execution_count": 12,
   "metadata": {
    "ExecuteTime": {
     "end_time": "2023-12-25T02:39:41.824671Z",
     "start_time": "2023-12-25T02:39:41.821921Z"
    }
   },
   "outputs": [],
   "source": [
    "embedding_idx_to_movie_id = {idx: iD for idx, iD in enumerate(movie_df.movie_id)}"
   ]
  },
  {
   "cell_type": "code",
   "execution_count": 13,
   "metadata": {
    "ExecuteTime": {
     "end_time": "2023-12-25T02:39:44.630300Z",
     "start_time": "2023-12-25T02:39:44.619106Z"
    }
   },
   "outputs": [],
   "source": [
    "with open('../datasets/embedding_idx_to_movie_id.json', 'w') as f:\n",
    "    json.dump(embedding_idx_to_movie_id, f)"
   ]
  },
  {
   "cell_type": "code",
   "execution_count": 14,
   "metadata": {
    "ExecuteTime": {
     "end_time": "2023-12-25T02:39:47.219399Z",
     "start_time": "2023-12-25T02:39:47.184726Z"
    }
   },
   "outputs": [],
   "source": [
    "np.save('../datasets/movie_embeddings.npy', unit_embeddings)"
   ]
  }
 ],
 "metadata": {
  "kernelspec": {
   "display_name": "Python 3 (ipykernel)",
   "language": "python",
   "name": "python3"
  },
  "language_info": {
   "codemirror_mode": {
    "name": "ipython",
    "version": 3
   },
   "file_extension": ".py",
   "mimetype": "text/x-python",
   "name": "python",
   "nbconvert_exporter": "python",
   "pygments_lexer": "ipython3",
   "version": "3.9.6"
  }
 },
 "nbformat": 4,
 "nbformat_minor": 4
}
